{
 "cells": [
  {
   "cell_type": "markdown",
   "metadata": {},
   "source": [
    "# Touch Screen Lab 2: Resistive Touch Screen\n",
    "\n",
    "### EECS 16A: Designing Information Devices and Systems I, Summer 2020\n",
    "\n",
    "<!---- Seiya (scono12@b.e) su2020 --->"
   ]
  },
  {
   "cell_type": "markdown",
   "metadata": {},
   "source": [
    "# Table of Contents\n",
    "\n",
    "* [Instructions](#instructions)\n",
    "* [Policies](#policies)\n",
    "* [Task 1: Assembling the Touch Screen](#task1)\n",
    "    * [Task 1a: PCB Bottom Mesh](#task1a)\n",
    "    * [Task 1b: Making the Touchscreen](#task1b)\n",
    "* [Task 2: Resistive Touchscreen Theory](#task2)\n",
    "    * [Task 2a: Powering the Bottom Mesh](#task2a)\n",
    "    * [Task 2b: Powering the Top Mesh](#task2b)\n",
    "* [Task 3: Touch Screen Processing](#task3)\n",
    "    * [Task 3a: Touch Coordinates](#task3a)\n",
    "\n",
    "<a id='instructions'></a>\n",
    "## <span style='color:blue'>Instructions</span>\n",
    "* Complete this lab by filling in all of the required sections, marked with **`YOUR CODE HERE`** or **`YOUR ANSWER HERE`**.\n",
    "* When you finish, submit a checkoff request to get checked off for this lab. Be ready to answer a few questions to show your understanding of each section.\n",
    "* Labs will be graded based on completion for teams of 2-4 students.\n",
    "\n",
    "<a id='policies'></a>\n",
    "## <span style='color:blue'>Lab Policies</span>\n",
    "* **YOU MUST ATTEND THE LAB SECTION YOU ARE ENROLLED IN. If you anticipate missing a section, please notify your GSI in advance.**\n",
    "* **You are free to stay for the full allotted time and hack around with the lab setup or code, but please keep the GSI's time in mind and do not work on unrelated assignments.**\n",
    "* **Keep food and drinks (except water) away from your devices / equipment.**"
   ]
  },
  {
   "cell_type": "markdown",
   "metadata": {},
   "source": [
    "<a id='task1'></a>\n",
    "# <span style=\"color:blue\">Task 1: Assembling the Touch Screen</span>\n",
    "\n",
    "<font color=red><b>Reminder</b></font>: Reference the [Lab Equipment Guide](https://docs.google.com/document/d/e/2PACX-1vTVrGBDbRfVI0_LjSeTfw8doili8iS_E_9Fwdk2UShgf7WAgVVoHtyMOpjXadXwD45HNXUbb2ASF18H/pub) for information about your lab kit\n",
    "\n",
    "#### Materials\n",
    "* 4x foam pieces - Kit\n",
    "* 1 Plastic Top Mesh - Kit\n",
    "* 1 Bottom Mesh (PCB) - Kit\n",
    "* 2x Alligator clips - Kit\n",
    "* 2x Breadboarding Wires - Kit\n",
    "* 2x Male-to-Female Jumper Wires - Kit (not in picture)"
   ]
  },
  {
   "cell_type": "markdown",
   "metadata": {},
   "source": [
    "<center>\n",
    "<img src=\"img/Touch 2 Materials.png\" align=\"center\" style=\"height:500px\" />\n",
    "</center>\n"
   ]
  },
  {
   "cell_type": "markdown",
   "metadata": {},
   "source": [
    "<a id='task1a'></a>\n",
    "## <span style='color:blue'>Task 1a: PCB Bottom Mesh</span>\n",
    "\n",
    "Inspect your PCB Bottom Mesh from your kit. The pictures below label the $1k\\Omega$ resistors as well as the contact pads. Your PCB should have 12 of these resistors and 9 contacts. (Ignore the white blocks)"
   ]
  },
  {
   "cell_type": "markdown",
   "metadata": {},
   "source": [
    "<center>\n",
    "<img src=\"img/Touch 2 PCB.png\" align=\"center\" style=\"height:500px\" />\n",
    "</center>"
   ]
  },
  {
   "cell_type": "markdown",
   "metadata": {},
   "source": [
    "This will be used as the bottom mesh for your resistive touchscreen PCB. In lecture, we discussed resistive sheets that were used in past touchscreens, but in lab we will be using discrete resistors to create 9 discrete points for touch detection."
   ]
  },
  {
   "cell_type": "markdown",
   "metadata": {},
   "source": [
    "<a id='task1b'></a>\n",
    "## <span style='color:blue'>Task 1b: Making the Touchscreen</span>"
   ]
  },
  {
   "cell_type": "markdown",
   "metadata": {},
   "source": [
    "<span style='color:red;font-weight:bold'>Watch this [**instructional video**](https://drive.google.com/file/d/1r--VxrN9NNzAHYpXg0k0NcYpyEdYTL76/view) that details the steps you will need to follow to assemble the touch screen. Refer to it at each step of the assembly and follow along closely.\n",
    "\n",
    "**Attaching the flexible Top Mesh to the PCB Bottom Mesh**\n",
    "1. Note the side of the Top Mesh where the conductive ink is on. The ink feels a bit rough and looks matte. This is the side that should be facing down towards the PCB.\n",
    "1. Orient the PCB so the text is face up with `(0,0)` on the bottom left.\n",
    "1. Try to overlay the Top Mesh on top of the Bottom Mesh, aligning the black squares on top of the silver circle coordinates on the PCB Bottom Mesh. <span style='color:red;font-weight:bold'>If the flexible Top Mesh is too large and bumps into the pins for `X_POS` and `X_NEG`, use a pair of scissors to trim the Top Mesh so the points overlap well.</span>. Watch the [video](https://drive.google.com/file/d/1r--VxrN9NNzAHYpXg0k0NcYpyEdYTL76/view) for a demonstration.\n",
    "1. Place the newly trimmed Top Mesh over the PCB Bottom Mesh and make sure that it fits well, ensuring that the Black Squares line up well with the Circular Silver Coordinates.\n",
    "1. Peel both sides of and stick 4 foam blocks on the designated white squares on the PCB. Make sure **both** sides of the foam block have been peeled, ready to make contact with the Top Mesh.\n",
    "1. Align the Top Mesh with the trimmed side oriented correctly and stick it only the bottom mesh. <br>\n",
    "    <span style='color:red;font-weight:bold'>The matte, ink side needs to face the PCB, or nothing will work</span>.\n",
    "1. Push down lightly on the foam blocks so the two layers are stuck together, but spaced apart."
   ]
  },
  {
   "cell_type": "markdown",
   "metadata": {},
   "source": [
    "<center>\n",
    "<img src=\"img/mesh_attach.png\" align=\"center\" style=\"height:400px\" /><br>\n",
    "    <figcaption>Assembled Top and Bottom Mesh</figcaption>\n",
    "</center>"
   ]
  },
  {
   "cell_type": "markdown",
   "metadata": {},
   "source": [
    "**Attaching breadboarding wires to the alligator clips**\n",
    "\n",
    "1. Identify your two breadboarding wires - the colors do not matter. **Use the end with more copper exposed**. If they are about equal, choose either end.\n",
    "1. Thread the longer stripped end of a breadboarding wire through the hole in the alligator clip.\n",
    "1. Loop and twist the stripped end around the alligator clip handle. Ensure that there is as much metal to metal contact as possible. It is fine to have the insulation touch the alligator clip. Make sure that there is no slack in the connection and that the alligator clip is well fastened. Refer to the [video](https://drive.google.com/file/d/1r--VxrN9NNzAHYpXg0k0NcYpyEdYTL76/view) again if necessary.\n",
    "1. Repeat the above steps for the other alligator clip and breadboarding wire.\n",
    "\n",
    "**Finishing up the system**\n",
    "\n",
    "1. Attach one clip to the top mesh at coordinate (1,2) and the other at coordinate (1,0). <span style='color:red;font-weight:bold'>The clip should attach only to the top mesh</span>, and should not make contact with the PCB. We will call these new contacts `Y_POS` (coordinate 1,2) and `Y_NEG` (coordinate 1,0) respectively.\n",
    "1. Attach the female ends of two male to female jumper cables to the `X_POS` and `X_NEG` terminals of the PCB. These, along with the free ends of the alligator clip jumper cables, will connect to pins on the LaunchPad. The final assembly should look like this:"
   ]
  },
  {
   "cell_type": "markdown",
   "metadata": {},
   "source": [
    "<center>\n",
    "<img src=\"img/finished.png\" align=\"center\" style=\"height:400px\" />\n",
    "</center>"
   ]
  },
  {
   "cell_type": "markdown",
   "metadata": {},
   "source": [
    "<a id='task2'></a>\n",
    "# <span style=\"color:blue\">Task 2: Resistive Touchscreen Theory</span>\n",
    "\n",
    "From lecture, we learned that the direction in which the resistive sheet is powered controls which coordinates we can uniquely determine. To locate a touch in a 2-D environment, we would need to make two different measurements, using two different directions to power the touchscreen. Conveniently, this can be done by powering the two meshes in the two orthogonal directions. You may want to look at [Note 14](https://www.eecs16a.org/lecture/Note14.pdf) to review these concepts.\n",
    "<br>\n",
    "Observe the circuit for the discrete resistive touchscreen below."
   ]
  },
  {
   "cell_type": "markdown",
   "metadata": {},
   "source": [
    "<center>\n",
    "<img style='height:400px' src='img/touch2_circuit.png'/>\n",
    "    <br>\n",
    "    <a href=\"http://tinyurl.com/y8pms37j\">Falstad Circuit</a>\n",
    "</center>"
   ]
  },
  {
   "cell_type": "markdown",
   "metadata": {},
   "source": [
    "The above circuit is the equivalent schematic representation of our resistive touchscreen system - we can assume that all the branch resistors are the same value, and thus their absolute resistances do not matter as we will see in the following exercises."
   ]
  },
  {
   "cell_type": "markdown",
   "metadata": {},
   "source": [
    "<a id='task2a'></a>\n",
    "## <span style=\"color:blue\">Task 2a: Powering the Bottom Mesh</span>\n",
    "\n",
    "We want to examine the voltages at the 9 different locations when the Bottom mesh (PCB) is powered. **The Bottom Mesh will be powered using $3.3V$.**  Using your knowledge of voltage dividers and guidance from [Note 14](https://www.eecs16a.org/lecture/Note14.pdf), <span style='color:red;font-weight:bold'>solve for the voltage at each of the 9 touch points on the Bottom Mesh and fill out the \"Expected Voltage\" column.</span>"
   ]
  },
  {
   "cell_type": "markdown",
   "metadata": {},
   "source": [
    "<center>\n",
    "<img style='height:400px' src='img/power_bottom.png'/>\n",
    "</center>"
   ]
  },
  {
   "cell_type": "markdown",
   "metadata": {},
   "source": [
    "<center>\n",
    "<span style='color:red;font-weight:bold'>Fill out this table.</span>\n",
    "    </center>\n",
    "\n",
    "|     Joint     | Expected Voltage | Measured Voltage | \n",
    "| ------------- | ---------------- | ---------------- |\n",
    "|     (0,0)     |          - Volts |          - Volts |\n",
    "|     (0,1)     |          - Volts |          - Volts |\n",
    "|     (0,2)     |          - Volts |          - Volts |\n",
    "|     (1,0)     |          - Volts |          - Volts |\n",
    "|     (1,1)     |          - Volts |          - Volts |\n",
    "|     (1,2)     |          - Volts |          - Volts |\n",
    "|     (2,0)     |          - Volts |          - Volts |\n",
    "|     (2,1)     |          - Volts |          - Volts |\n",
    "|     (2,2)     |          - Volts |          - Volts |"
   ]
  },
  {
   "cell_type": "markdown",
   "metadata": {},
   "source": [
    "Let's confirm our calculations. \n",
    "**Read these directions closely.** \n",
    "\n",
    "<span style='color:red;font-weight:bold'>Open this [circuit simulator](https://tinyurl.com/y7wtssb9) in another tab.</span> Here, you will be able to measure the voltage as each node by dragging around a wire attached to the Top Mesh, which is then attached to a Voltmeter. \n",
    "\n",
    "**Drag the wire around to measure different nodes, without letting go, and connect the wire to a node**. Hovering the wire over a node will allow you take readings - make sure to put the wire back to an empty spot.\n",
    "\n",
    "**A key concept in this lab is understanding why the Top Mesh does not contribute any resistance to the Bottom Mesh circuit, and in turn does not affect the voltmeter measurement.** Have a look at the animation below to understand how you can use the circuit simulator to measure the voltage at each of the Bottom Mesh's joints. See if you can begin to develop an explanation for the lack of resistance contribution. <span style='color:red;font-weight:bold'>Fill out the \"Measured Voltage\" column in the table above.</span> If it does not reflect your expected voltage, think about where your calculations went wrong, or call over a Lab staff member for some assistance."
   ]
  },
  {
   "cell_type": "markdown",
   "metadata": {},
   "source": [
    "<center>\n",
    "<img style='height:400px' src='img/falstad.gif'/>\n",
    "</center>"
   ]
  },
  {
   "cell_type": "markdown",
   "metadata": {},
   "source": [
    "**<span style=\"color:red\">Can we uniquely determine the location of a touch by only powering the Bottom Mesh?</span>**"
   ]
  },
  {
   "cell_type": "markdown",
   "metadata": {},
   "source": [
    "`YOUR ANSWER HERE`"
   ]
  },
  {
   "cell_type": "markdown",
   "metadata": {},
   "source": [
    "<a id='task2b'></a>\n",
    "## <span style=\"color:blue\">Task 2b: Powering the Top Mesh</span>\n",
    "\n",
    "Now we would like to power the Top Mesh, and figure out the voltages at the 9 coordinates. **The Top Mesh will be powered using $3.3V$.**  Using your knowledge of voltage dividers and guidance from [Note 14](https://www.eecs16a.org/lecture/Note14.pdf), <span style='color:red;font-weight:bold'>solve for the voltage at each of the 9 touch points on the Top Mesh and fill out the \"Expected Voltage\" column.</span>"
   ]
  },
  {
   "cell_type": "markdown",
   "metadata": {},
   "source": [
    "<center>\n",
    "<img style='height:400px' src='img/power_top.png'/>\n",
    "</center>"
   ]
  },
  {
   "cell_type": "markdown",
   "metadata": {},
   "source": [
    "|     Joint     | Expected Voltage | Measured Voltage | \n",
    "| ------------- | ---------------- | ---------------- |\n",
    "|     (0,0)     |          - Volts |          - Volts |\n",
    "|     (0,1)     |          - Volts |          - Volts |\n",
    "|     (0,2)     |          - Volts |          - Volts |\n",
    "|     (1,0)     |          - Volts |          - Volts |\n",
    "|     (1,1)     |          - Volts |          - Volts |\n",
    "|     (1,2)     |          - Volts |          - Volts |\n",
    "|     (2,0)     |          - Volts |          - Volts |\n",
    "|     (2,1)     |          - Volts |          - Volts |\n",
    "|     (2,2)     |          - Volts |          - Volts |"
   ]
  },
  {
   "cell_type": "markdown",
   "metadata": {},
   "source": [
    "Let's try to confirm our calculations.\n",
    "\n",
    "<span style='color:red;font-weight:bold'>Open this new </span> **[circuit simulator](http://tinyurl.com/y9rmyq92)** <span style='color:red;font-weight:bold'>in another tab.</span> Again, you can measure the voltage as each node by dragging around a wire attached to the Top Mesh, which is then attached to a Voltmeter. **Drag the wire around to measure different nodes, without letting go, and connect the wire to a node**. Hovering the wire over a node will allow you take readings - make sure to put the wire back to an empty spot.\n",
    "\n",
    "<span style='color:red;font-weight:bold'>Fill out the \"Measured Voltage\" column in the table above.</span> If it does not reflect your expected voltage, think about where your calculations went wrong, or call over a Lab staff member for some assistance."
   ]
  },
  {
   "cell_type": "markdown",
   "metadata": {},
   "source": [
    "**<span style=\"color:red\">In order to uniquely determine a horizontal (x) coordinate, which mesh (top or bottom) will be driven with a voltage source, and which mesh will we measure the voltage across? Which ones for vertical (y) coordinates?</span>** "
   ]
  },
  {
   "cell_type": "markdown",
   "metadata": {},
   "source": [
    "`YOUR ANSWER HERE`"
   ]
  },
  {
   "cell_type": "markdown",
   "metadata": {},
   "source": [
    "<a id='task3'></a>\n",
    "# <span style=\"color:blue\">Task 3: Touchscreen Processing</span>\n",
    "\n",
    "Ultimately, we want to be able to determine the unique location of our finger on the screen, in both axes simultaneously. We can use the Launchpad to automate this process, with a script that will rapidly switch the measurement mode of the resistive touchscreen between powering the Top Mesh and powering the Bottom Mesh. \n",
    "<br> Switching between the two modes quickly will enable us to effectively receive the X and Y positions at the same time during the duration of a single touch. This relies on the assumption that we cannot touch and retract our finger faster than the MSP being able to toggle between the two modes, which is on the order a few milliseconds."
   ]
  },
  {
   "cell_type": "markdown",
   "metadata": {},
   "source": [
    "#### Materials\n",
    "* Assembled touchscreen from Task 1\n",
    "* Launchpad - Kit\n",
    "\n",
    "<span style=\"color:red;font-weight:bold\">Use the pictures and table below as a reference to hook up the touch screen to the Launchpad</span>\n",
    "\n",
    "| Node | Mesh | Connection | Wire | MSP Pin |\n",
    "| ---- | ---- | ---------- | ---- | ------- |\n",
    "| $$Y_{pos}$$ | **Top** | (1,2)  | Alligator Clip | `P6.0`  |   \n",
    "| $$X_{pos}$$ | <span style='color:green;font-weight:bold'>Bottom</span> | (0, 1) | M-F Jumper | `P6.1` |\n",
    "| $$X_{neg}$$ | <span style='color:green;font-weight:bold'>Bottom</span> | (0, 1) | M-F Jumper | `P6.2` |\n",
    "| $$Y_{neg}$$ | **Top** | (1,0)  | Alligator Clip | `P6.3`  |"
   ]
  },
  {
   "cell_type": "markdown",
   "metadata": {},
   "source": [
    "<center>\n",
    "<img style='height:400px' src='img/full_system.png'/><img style=\"height:400px;\" src=\"img/pinouts.png\"/>\n",
    "</center>"
   ]
  },
  {
   "cell_type": "markdown",
   "metadata": {},
   "source": [
    "<a id='task3a'></a>\n",
    "## <span style='color:blue'>Touch Coordinates</span>\n",
    "\n",
    "With the Launchpad and Resistive Touchscreen ready, we will now need to upload code to the MSP so it can properly power and read the touch points on the touchscreen. We have prepared skeleton code for you to upload, but you will need to **fill in the `getLoc` function** (more on this below) to calculate the coordinates of the touchscreen. We will be using the same formulation from lecture, as shown below, to take voltage readings and translate into coordinates.\n",
    "\n",
    "<br>\n",
    "<span style='font-size:20px'>\n",
    "$$X = \\frac{V_{x\\_raw}}{V_{raw\\_range}} \\times \\text{width} \\hspace{2cm} Y = \\frac{V_{y\\_raw}}{V_{raw\\_range}} \\times \\text{height}$$\n",
    "</span>\n",
    "<br>\n",
    "<center><figcaption>Launchpad Touch Processing Formulas</figcaption>\n",
    "    </center>\n",
    "\n",
    "\n",
    "$V_{x\\_raw}$ is the raw voltage value represented as some integer. This variable is necessary as the MSP can only read in voltages with finite resolution - in this case, the MSP has 12 bits to read in voltage, so it will divide its operating range (0V to 3.3V) into 4096 pieces and read in voltages accordingly. \n",
    "\n",
    "As an example, if the voltage at the read in pin was 1.65V (half of 3.3V), the MSP would read it in as $\\frac{4096}{2} = 2048$. This is why it it necessary to divide $V_{x\\_raw}$ by $V_{raw\\_range}$ to convert it into a fraction that denotes the position in that axis, which is then multiplied by the resolution of our touchscreen. The same logic applies to the y axis as well.\n",
    "\n",
    "With this background information, <span style='color:red:font-weight:bold'>fill out the `get_loc` Python function below.</span> This will serve as a test before we write code to our MSP."
   ]
  },
  {
   "cell_type": "markdown",
   "metadata": {},
   "source": [
    "**<span style=\"color:red\">Implement the `get_loc` function - the figure in `Launchpad Touch Processing` above might be a good starting point. Once you think you are done, run the code block below to test your function. </span>**"
   ]
  },
  {
   "cell_type": "code",
   "execution_count": null,
   "metadata": {},
   "outputs": [],
   "source": [
    "%run get_loc_test.py\n",
    "def get_loc(x_raw, y_raw, raw_range=4096, width=3, height=3):\n",
    "    \"\"\"Convert raw x and y analog values to touchscreen locations.\n",
    "\n",
    "    Args:\n",
    "        x_raw: A scaled voltage read in by the MSP as a number between 0 and 4095\n",
    "        y_raw: A scaled voltage read in by the MSP as a number between 0 and 4095\n",
    "        raw_range: the span of the raw values (starting from 0 implied).\n",
    "        width: resolution of the touchscreen in the x axis.\n",
    "        height: resolution of the touchscreen in the y axis.\n",
    "\n",
    "    Returns:\n",
    "        tuple(x,y): x and y MUST BE INTEGERS that correspond to the (x,y) location of a touch.\n",
    "        \n",
    "    Hint: We will handle the rounding for you.\n",
    "    \"\"\"\n",
    "    x = # YOUR CODE HERE\n",
    "    y = # YOUR CODE HERE\n",
    "    return (int(x),int(y))\n",
    "\n",
    "get_loc_test(get_loc)"
   ]
  },
  {
   "cell_type": "markdown",
   "metadata": {},
   "source": [
    "Now that we have tested our **`getLoc`** function, we can translate this code to the Energia sketch. \n",
    "\n",
    "<span style='color:red;font-weight:bold'>Download the `rts` folder from this [link](https://drive.google.com/drive/folders/1s1TAjDQlHOH3lZsTZqhn5dOT_EQ2IyQ0?usp=sharing) and open it up in Energia. </span> You should be greeted with code that includes the following function.\n",
    "If you cannot access the Google Drive link above, you can go back to your home tab of the notebook (most likely the tab in your browser that is one to the left of this one), and download the file from there."
   ]
  },
  {
   "cell_type": "markdown",
   "metadata": {},
   "source": [
    "<center>\n",
    "<img style='height:400px' src='img/getLoc.png'/>\n",
    "    <figcaption>getLoc Function in Energia</figcaption>\n",
    "</center>"
   ]
  },
  {
   "cell_type": "markdown",
   "metadata": {},
   "source": [
    "<span style='color:red;'>Finish the `getLoc` function in Energia. You can use your Python code as reference (you might just be able to copy and paste, **adding a semicolon to the end of each line**). If you are having trouble getting the syntax right, call us over ASAP - we do not want you to struggle on syntax for Energia code.</span>\n",
    "\n",
    "Once you have your code written, you can check it first by clicking on the <span style='color:red'>Check Mark</span> on the top left. If no warnings come up, [upload](https://docs.google.com/document/d/e/2PACX-1vTVrGBDbRfVI0_LjSeTfw8doili8iS_E_9Fwdk2UShgf7WAgVVoHtyMOpjXadXwD45HNXUbb2ASF18H/pub#h.6wu473h55i4) your code to the MSP, making sure you have the [right port](https://docs.google.com/document/d/e/2PACX-1vTVrGBDbRfVI0_LjSeTfw8doili8iS_E_9Fwdk2UShgf7WAgVVoHtyMOpjXadXwD45HNXUbb2ASF18H/pub#h.ulo2rtec2e00) selected. Open up the [Serial Monitor](https://docs.google.com/document/d/e/2PACX-1vTVrGBDbRfVI0_LjSeTfw8doili8iS_E_9Fwdk2UShgf7WAgVVoHtyMOpjXadXwD45HNXUbb2ASF18H/pub#h.zb2cns550l4p) and set the baud rate to `115200`. At this point, you should have done the following:\n",
    "\n",
    "1. Downloaded and opened `rts.ino` in Energia\n",
    "1. Finished the `getLoc` function in `rts.ino`\n",
    "1. Checked to make sure it compiles\n",
    "1. Uploaded the code to your MSP\n",
    "1. Opened and set Serial Monitor to `115200`\n",
    "\n",
    "Once you have the above steps complete, you can start tapping points on your touchscreen.  It should print text as pictured below ever second you are pressing down a point. If you are seeing coordinates that are not what you expect, you might want to check your `getLoc` function. Otherwise, you might get some false positives from the imperfect flexible Top Mesh accidentally making contact with other touch points, or the alligator clips adding too much of a gap between your (1,0) and (1,2) points and the PCB. Fiddling around with the flexible mesh will most likely solve a few problems."
   ]
  },
  {
   "cell_type": "markdown",
   "metadata": {},
   "source": [
    "<center>\n",
    "<img style='height:400px' src='img/serial.png'/>\n",
    "    <figcaption>Touchscreen Output</figcaption>\n",
    "</center>"
   ]
  },
  {
   "cell_type": "markdown",
   "metadata": {},
   "source": [
    "## Congratulations!\n",
    "\n",
    "**You have successfully built a 3x3 resistive touchscreen using your circuits knowledge**"
   ]
  },
  {
   "cell_type": "markdown",
   "metadata": {},
   "source": [
    "<a id='checkoff'></a>\n",
    "## Checkoff\n",
    "When you are ready to get checked off,\n",
    "1. Fill out the checkoff google form. **[Checkoff Form](https://forms.gle/TLjsE68kEf8QpcWa9)**\n",
    "2. Submit a **checkoff** request on the lab queue. **[Checkoff queue](https://lab.eecs16a.org)** It is fine if only one person from your group submits the lab queue request, but everyone must submit their own google form. \n",
    "\n",
    "Your GSI or a Lab Assistant will join your breakout room when they are available and go through some checkoff questions with your group. They will go through the checkoff list in order. Please be patient!\n",
    "\n",
    "## <span style='color:red;font-weight:bold'>Do not take apart your setup!</span>"
   ]
  }
 ],
 "metadata": {
  "anaconda-cloud": {},
  "kernelspec": {
   "display_name": "Python 3",
   "language": "python",
   "name": "python3"
  },
  "language_info": {
   "codemirror_mode": {
    "name": "ipython",
    "version": 3
   },
   "file_extension": ".py",
   "mimetype": "text/x-python",
   "name": "python",
   "nbconvert_exporter": "python",
   "pygments_lexer": "ipython3",
   "version": "3.8.0"
  }
 },
 "nbformat": 4,
 "nbformat_minor": 4
}
