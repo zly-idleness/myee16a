{
 "cells": [
  {
   "cell_type": "markdown",
   "metadata": {},
   "source": [
    "# EECS16A: Homework 1"
   ]
  },
  {
   "cell_type": "markdown",
   "metadata": {},
   "source": [
    "## Problem 2: Filtering Out The Troll"
   ]
  },
  {
   "cell_type": "code",
   "execution_count": null,
   "metadata": {},
   "outputs": [],
   "source": [
    "import warnings\n",
    "import wave as wv\n",
    "\n",
    "import matplotlib.pyplot as plt\n",
    "import numpy as np\n",
    "import scipy\n",
    "import scipy.io.wavfile\n",
    "from IPython.display import Audio\n",
    "from scipy import io\n",
    "from scipy.io.wavfile import read\n",
    "\n",
    "# For this to work make sure to download m1.wav and m2.wav to the same location as this jupyter notebook\n",
    "warnings.filterwarnings(\"ignore\")\n",
    "sound_file_1 = \"m1.wav\"\n",
    "sound_file_2 = \"m2.wav\""
   ]
  },
  {
   "cell_type": "markdown",
   "metadata": {},
   "source": [
    "Let's listen to the recording of the first microphone (it can take some time to load the sound file). Run the cell below, then press the play button to listen."
   ]
  },
  {
   "cell_type": "code",
   "execution_count": null,
   "metadata": {},
   "outputs": [],
   "source": [
    "Audio(url=\"m1.wav\", autoplay=False)"
   ]
  },
  {
   "cell_type": "markdown",
   "metadata": {},
   "source": [
    "And this is the recording of the second microphone (it can take some time to load the sound file). Run the cell below, then press the play button to listen."
   ]
  },
  {
   "cell_type": "code",
   "execution_count": null,
   "metadata": {},
   "outputs": [],
   "source": [
    "Audio(url=\"m2.wav\", autoplay=False)"
   ]
  },
  {
   "cell_type": "markdown",
   "metadata": {},
   "source": [
    "We read the first recording to the variable `corrupt1` and the second recording to `corrupt2`. Treat `corrupt1` and `corrupt2` as the two sound recordings picked up by microphone 1 and microphone 2 respectively."
   ]
  },
  {
   "cell_type": "code",
   "execution_count": null,
   "metadata": {},
   "outputs": [],
   "source": [
    "rate1, corrupt1 = scipy.io.wavfile.read(\"m1.wav\")\n",
    "rate2, corrupt2 = scipy.io.wavfile.read(\"m2.wav\")"
   ]
  },
  {
   "cell_type": "markdown",
   "metadata": {},
   "source": [
    "Enter the weights of the two recordings to get the clean speech.\n",
    "\n",
    "Note: The square root of a number $a$ can be written as ```np.sqrt(a)``` in IPython."
   ]
  },
  {
   "cell_type": "code",
   "execution_count": null,
   "metadata": {},
   "outputs": [],
   "source": [
    "# enter the weights u (recording 1) and v (recording 2)\n",
    "u = \n",
    "v ="
   ]
  },
  {
   "cell_type": "markdown",
   "metadata": {},
   "source": [
    "Weighted combination of the two recordings:"
   ]
  },
  {
   "cell_type": "code",
   "execution_count": null,
   "metadata": {},
   "outputs": [],
   "source": [
    "a = u * corrupt1 + v * corrupt2"
   ]
  },
  {
   "cell_type": "markdown",
   "metadata": {},
   "source": [
    "Let's listen to the resulting sound file (make sure your speaker's volume is not very high, the sound may be loud if things go wrong)."
   ]
  },
  {
   "cell_type": "code",
   "execution_count": null,
   "metadata": {},
   "outputs": [],
   "source": [
    "Audio(data=a, rate=rate1)"
   ]
  }
 ],
 "metadata": {
  "anaconda-cloud": {},
  "kernelspec": {
   "display_name": "Python 3",
   "language": "python",
   "name": "python3"
  },
  "language_info": {
   "codemirror_mode": {
    "name": "ipython",
    "version": 3
   },
   "file_extension": ".py",
   "mimetype": "text/x-python",
   "name": "python",
   "nbconvert_exporter": "python",
   "pygments_lexer": "ipython3",
   "version": "3.8.0"
  }
 },
 "nbformat": 4,
 "nbformat_minor": 1
}
