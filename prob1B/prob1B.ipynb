{
 "cells": [
  {
   "cell_type": "markdown",
   "metadata": {},
   "source": [
    "# EECS16A: Homework 1B"
   ]
  },
  {
   "cell_type": "markdown",
   "metadata": {},
   "source": [
    "## Problem 2: Quadcopter Transformatiom"
   ]
  },
  {
   "cell_type": "markdown",
   "metadata": {},
   "source": [
    "You may use an ipython notebook for algebra.\n",
    "Write out the matrices you are multiplying, and the computed matrix."
   ]
  },
  {
   "cell_type": "code",
   "execution_count": null,
   "metadata": {
    "tags": [
     "worksheet-0"
    ]
   },
   "outputs": [],
   "source": [
    "import numpy as np\n",
    "import numpy.matlib\n",
    "#Your code goes here"
   ]
  },
  {
   "cell_type": "markdown",
   "metadata": {},
   "source": [
    "## Problem 4: Image Stitching"
   ]
  },
  {
   "cell_type": "markdown",
   "metadata": {},
   "source": [
    "This section of the notebook continues the image stitching problem. Be sure to have a `figures` folder in the same directory as the notebook. The `figures` folder should contain the files:\n",
    "\n",
    "    Berkeley_banner_1.jpg\n",
    "    Berkeley_banner_2.jpg\n",
    "    stacked_pieces.jpg\n",
    "    lefthalfpic.jpg\n",
    "    righthalfpic.jpg\n",
    "    \n",
    "Note: This structure is present in the provided zip file."
   ]
  },
  {
   "cell_type": "markdown",
   "metadata": {},
   "source": [
    "### Part D\n"
   ]
  },
  {
   "cell_type": "markdown",
   "metadata": {},
   "source": [
    "Run the next block of code before proceeding\n"
   ]
  },
  {
   "cell_type": "code",
   "execution_count": null,
   "metadata": {
    "tags": [
     "worksheet-0"
    ]
   },
   "outputs": [],
   "source": [
    "import numpy as np\n",
    "import numpy.matlib\n",
    "import matplotlib.pyplot as plt\n",
    "from mpl_toolkits.mplot3d import Axes3D\n",
    "from numpy import pi, cos, exp, sin\n",
    "import matplotlib.image as mpimg\n",
    "import matplotlib.transforms as mtransforms\n",
    "\n",
    "\n",
    "#%matplotlib inline\n",
    "\n",
    "#loading images\n",
    "image1=mpimg.imread('figures/Berkeley_banner_1.jpg')\n",
    "image1=image1/255.0\n",
    "image2=mpimg.imread('figures/Berkeley_banner_2.jpg')\n",
    "image2=image2/255.0\n",
    "image_stack=mpimg.imread('figures/stacked_pieces.jpg')\n",
    "image_stack=image_stack/255.0\n",
    "\n",
    "\n",
    "image1_marked=mpimg.imread('figures/lefthalfpic.jpg')\n",
    "image1_marked=image1_marked/255.0\n",
    "image2_marked=mpimg.imread('figures/righthalfpic.jpg')\n",
    "image2_marked=image2_marked/255.0\n",
    "\n",
    "def euclidean_transform_2to1(transform_mat,translation,image,position,LL,UL):\n",
    "    new_position=np.round(transform_mat.dot(position)+translation)\n",
    "    new_position=new_position.astype(int)\n",
    "\n",
    "    \n",
    "    if (new_position>=LL).all() and (new_position<UL).all():\n",
    "        values=image[new_position[0][0],new_position[1][0],:]\n",
    "    else:\n",
    "        values=np.array([2.0,2.0,2.0])\n",
    "    \n",
    "    return values\n",
    "\n",
    "def euclidean_transform_1to2(transform_mat,translation,image,position,LL,UL):\n",
    "    transform_mat_inv=np.linalg.inv(transform_mat)\n",
    "    new_position=np.round(transform_mat_inv.dot(position-translation))\n",
    "    new_position=new_position.astype(int)\n",
    "    \n",
    "    if (new_position>=LL).all() and (new_position<UL).all():\n",
    "        values=image[new_position[0][0],new_position[1][0],:]\n",
    "    else:\n",
    "        values=np.array([2.0,2.0,2.0])\n",
    "    \n",
    "    return values\n",
    "\n",
    "def solve(A,b):\n",
    "    try:\n",
    "        z = np.linalg.solve(A,b)\n",
    "    except:\n",
    "        raise ValueError('Rows are not linearly independent. Cannot solve system of linear equations uniquely. :)')\n",
    "    return z"
   ]
  },
  {
   "cell_type": "markdown",
   "metadata": {},
   "source": [
    "We will stick to a simple example and just consider stitching two images (if you can stitch two pictures, then you could conceivably stitch more by applying the same technique over and over again).\n",
    "\n",
    "Daniel decided to take an amazing picture of the Campanile overlooking the bay. Unfortunately, the field of view of his camera was not large enough to capture the entire scene, so he decided to take two pictues and stitch them together. \n",
    "\n",
    "The next block will display the two images."
   ]
  },
  {
   "cell_type": "code",
   "execution_count": null,
   "metadata": {
    "tags": [
     "worksheet-0"
    ]
   },
   "outputs": [],
   "source": [
    "plt.figure(figsize=(20,40))\n",
    "\n",
    "plt.subplot(311)\n",
    "plt.imshow(image1)\n",
    "\n",
    "plt.subplot(312)\n",
    "plt.imshow(image2)\n",
    "\n",
    "plt.subplot(313)\n",
    "plt.imshow(image_stack)\n",
    "\n",
    "plt.show() "
   ]
  },
  {
   "cell_type": "markdown",
   "metadata": {},
   "source": [
    "Once you apply Marcela's algorithm on the two images you get the following result (run the next block):"
   ]
  },
  {
   "cell_type": "code",
   "execution_count": null,
   "metadata": {},
   "outputs": [],
   "source": [
    "plt.figure(figsize=(20,30))\n",
    "\n",
    "plt.subplot(211)\n",
    "plt.imshow(image1_marked)\n",
    "\n",
    "plt.subplot(212)\n",
    "plt.imshow(image2_marked)"
   ]
  },
  {
   "cell_type": "markdown",
   "metadata": {},
   "source": [
    "As you can see Marcela's algorithm was able to find four common points between the two images. These points expressed in the coordinates of the first image and second image are\n",
    "\n",
    "$\\begin{align} \n",
    "&&\\vec{p_1}=\\begin{bmatrix} 200 \\\\ 700 \\end{bmatrix}\n",
    "&&\\vec{p_2}=\\begin{bmatrix} 310 \\\\ 620 \\end{bmatrix} \n",
    "&&\\vec{p_3}=\\begin{bmatrix} 390 \\\\ 660 \\end{bmatrix}\n",
    "&&\\vec{p_4}=\\begin{bmatrix} 460 \\\\ 630 \\end{bmatrix}\\\\\n",
    "&&\\vec{q_1}=\\begin{bmatrix} 162.2976 \\\\ 565.8862 \\end{bmatrix}\n",
    "&&\\vec{q_2}=\\begin{bmatrix} 285.4283 \\\\ 458.7469 \\end{bmatrix} \n",
    "&&\\vec{q_3}=\\begin{bmatrix} 385.2465 \\\\ 498.1973 \\end{bmatrix}\n",
    "&&\\vec{q_4}=\\begin{bmatrix} 465.7892 \\\\ 455.0132 \\end{bmatrix}\n",
    "\\end{align}$\n",
    "\n",
    "It should be noted that in relation to the image the positive x-axis is down and the positive y-axis is right. This will have no bearing as to how you solve the problem, however it helps in interpreting what the numbers mean relative to the image you are seeing.\n",
    "\n",
    "Using the points determine the parameters $R_{11},R_{12},R_{21},R_{22},T_x,T_y$ that map the points from the first image to the points in the second image by solving an appropriate system of equations. Hint: you do not need all the points to recover the parameters. "
   ]
  },
  {
   "cell_type": "code",
   "execution_count": null,
   "metadata": {},
   "outputs": [],
   "source": [
    "# Note that the following is a general template for solving for 6 unknowns from 6 equations represented as Az = b.\n",
    "# You do not have to use the following code exactly. \n",
    "# All you need to do is to find parameters R_11, R_12, R_21, R_22, T_x, T_y. \n",
    "# If you prefer finding them another way it is fine.\n",
    "\n",
    "# fill in the entries\n",
    "A = np.array([[?,?,?,?,?,?],\n",
    "              [?,?,?,?,?,?],\n",
    "              [?,?,?,?,?,?],\n",
    "              [?,?,?,?,?,?],\n",
    "              [?,?,?,?,?,?],\n",
    "              [?,?,?,?,?,?]])\n",
    "\n",
    "# fill in the entries\n",
    "b = np.array([[?],[?],[?],[?],[?],[?]])\n",
    "\n",
    "A = A.astype(float)\n",
    "b = b.astype(float)\n",
    "\n",
    "# solve the linear system for the coefficiens\n",
    "z = solve(A,b)\n",
    "\n",
    "#Parameters for our transformation\n",
    "R_11 = z[0,0]\n",
    "R_12 = z[1,0]\n",
    "R_21 = z[2,0]\n",
    "R_22 = z[3,0]\n",
    "T_x  = z[4,0]\n",
    "T_y  = z[5,0]"
   ]
  },
  {
   "cell_type": "markdown",
   "metadata": {},
   "source": [
    "Stitch the images using the transformation you found by running the code below.\n",
    "\n",
    "### Note that it takes about 40 seconds for the block to finish running on a modern laptop.\n",
    "\n"
   ]
  },
  {
   "cell_type": "code",
   "execution_count": null,
   "metadata": {
    "scrolled": false
   },
   "outputs": [],
   "source": [
    "matrix_transform=np.array([[R_11,R_12],[R_21,R_22]])\n",
    "translation=np.array([T_x,T_y])\n",
    "\n",
    "#Creating image canvas (the image will be constructed on this)\n",
    "num_row,num_col,blah=image1.shape\n",
    "image_rec=1.0*np.ones((int(num_row),int(num_col),3))\n",
    "\n",
    "#Reconstructing the original image\n",
    "\n",
    "LL=np.array([[0],[0]]) #lower limit on image domain\n",
    "UL=np.array([[num_row],[num_col]]) #upper limit on image domain\n",
    "\n",
    "for row in range(0,int(num_row)):\n",
    "    for col in range(0,int(num_col)):\n",
    "        #notice that the position is in terms of x and y, so the c  \n",
    "        position=np.array([[row],[col]])       \n",
    "        if image1[row,col,0] > 0.995 and image1[row,col,1] > 0.995 and image1[row,col,2] > 0.995:\n",
    "            temp = euclidean_transform_2to1(matrix_transform,translation,image2,position,LL,UL)\n",
    "            image_rec[row,col,:] = temp\n",
    "        else:\n",
    "            image_rec[row,col,:] = image1[row,col,:]\n",
    "        \n",
    "\n",
    "plt.figure(figsize=(20,20))\n",
    "plt.imshow(image_rec)\n",
    "plt.axis('on')\n",
    "plt.show()"
   ]
  },
  {
   "cell_type": "markdown",
   "metadata": {},
   "source": [
    "## Problem 5: Segway Tours"
   ]
  },
  {
   "cell_type": "markdown",
   "metadata": {},
   "source": [
    "Run the following block of code first to get all the dependencies."
   ]
  },
  {
   "cell_type": "code",
   "execution_count": null,
   "metadata": {},
   "outputs": [],
   "source": [
    "# %load gauss_elim.py\n",
    "from gauss_elim import gauss_elim"
   ]
  },
  {
   "cell_type": "code",
   "execution_count": null,
   "metadata": {},
   "outputs": [],
   "source": [
    "from numpy import zeros, cos, sin, arange, around, hstack\n",
    "from matplotlib import pyplot as plt\n",
    "from matplotlib import animation\n",
    "from matplotlib.patches import Rectangle\n",
    "import numpy as np\n",
    "from scipy.interpolate import interp1d\n",
    "import scipy as sp"
   ]
  },
  {
   "cell_type": "markdown",
   "metadata": {},
   "source": [
    "## Dynamics"
   ]
  },
  {
   "cell_type": "code",
   "execution_count": null,
   "metadata": {},
   "outputs": [],
   "source": [
    "# Dynamics: state to state\n",
    "A = np.array([[1, 0.05, -.01, 0],\n",
    "              [0, 0.22, -.17, -.01],\n",
    "              [0, 0.1, 1.14, 0.10],\n",
    "              [0, 1.66, 2.85, 1.14]]);\n",
    "# Control to state\n",
    "b = np.array([.01, .21, -.03, -0.44])\n",
    "nr_states = b.shape[0]\n",
    "\n",
    "# Initial state\n",
    "state0 = np.array([-0.3853493, 6.1032227, 0.8120005, -14])\n",
    "\n",
    "# Final (terminal state)\n",
    "stateFinal = np.array([0, 0, 0, 0])"
   ]
  },
  {
   "cell_type": "markdown",
   "metadata": {},
   "source": [
    "## Part (d), (e), (f)"
   ]
  },
  {
   "cell_type": "code",
   "execution_count": null,
   "metadata": {},
   "outputs": [],
   "source": [
    "# You may use gauss_elim to help you find the row reduced echelon form."
   ]
  },
  {
   "cell_type": "markdown",
   "metadata": {},
   "source": [
    "## Part (g)"
   ]
  },
  {
   "cell_type": "markdown",
   "metadata": {},
   "source": [
    "### Preamble\n",
    "This function will take care of animating the segway."
   ]
  },
  {
   "cell_type": "code",
   "execution_count": null,
   "metadata": {},
   "outputs": [],
   "source": [
    "# frames per second in simulation\n",
    "fps = 20\n",
    "# length of the segway arm/stick\n",
    "stick_length = 1.\n",
    "\n",
    "def animate_segway(t, states, controls, length):\n",
    "    #Animates the segway\n",
    "    \n",
    "    # Set up the figure, the axis, and the plot elements we want to animate\n",
    "    fig = plt.figure()\n",
    "    \n",
    "    # some config\n",
    "    segway_width = 0.4\n",
    "    segway_height = 0.2\n",
    "    \n",
    "    # x coordinate of the segway stick\n",
    "    segwayStick_x = length * np.add(states[:, 0],sin(states[:, 2]))\n",
    "    segwayStick_y = length * cos(states[:, 2])\n",
    "    \n",
    "    # set the limits\n",
    "    xmin = min(around(states[:, 0].min() - segway_width / 2.0, 1), around(segwayStick_x.min(), 1))\n",
    "    xmax = max(around(states[:, 0].max() + segway_height / 2.0, 1), around(segwayStick_y.max(), 1))\n",
    "    \n",
    "    # create the axes\n",
    "    ax = plt.axes(xlim=(xmin-.2, xmax+.2), ylim=(-length-.1, length+.1), aspect='equal')\n",
    "    \n",
    "    # display the current time\n",
    "    time_text = ax.text(0.05, 0.9, '', transform=ax.transAxes)\n",
    "    \n",
    "    # display the current control\n",
    "    control_text = ax.text(0.05, 0.8, '', transform=ax.transAxes)\n",
    "    \n",
    "    # create rectangle for the segway\n",
    "    rect = Rectangle([states[0, 0] - segway_width / 2.0, -segway_height / 2],\n",
    "        segway_width, segway_height, fill=True, color='gold', ec='blue')\n",
    "    ax.add_patch(rect)\n",
    "    \n",
    "    # blank line for the stick with o for the ends\n",
    "    stick_line, = ax.plot([], [], lw=2, marker='o', markersize=6, color='blue')\n",
    "    \n",
    "    # vector for the control (force)\n",
    "    force_vec = ax.quiver([],[],[],[],angles='xy',scale_units='xy',scale=1)\n",
    "\n",
    "    # initialization function: plot the background of each frame\n",
    "    def init():\n",
    "        time_text.set_text('')\n",
    "        control_text.set_text('')\n",
    "        rect.set_xy((0.0, 0.0))\n",
    "        stick_line.set_data([], [])\n",
    "        return time_text, rect, stick_line, control_text\n",
    "\n",
    "    # animation function: update the objects\n",
    "    def animate(i):\n",
    "        time_text.set_text('time = {:2.2f}'.format(t[i]))\n",
    "        control_text.set_text('force = {:2.3f}'.format(controls[i]))\n",
    "        rect.set_xy((states[i, 0] - segway_width / 2.0, -segway_height / 2))\n",
    "        stick_line.set_data([states[i, 0], segwayStick_x[i]], [0, segwayStick_y[i]])\n",
    "        return time_text, rect, stick_line, control_text\n",
    "\n",
    "    # call the animator function\n",
    "    anim = animation.FuncAnimation(fig, animate, frames=len(t), init_func=init,\n",
    "            interval=1000/fps, blit=False, repeat=False)\n",
    "    return anim\n",
    "    # plt.show()"
   ]
  },
  {
   "cell_type": "markdown",
   "metadata": {},
   "source": [
    "### Plug in your controller here"
   ]
  },
  {
   "cell_type": "code",
   "execution_count": null,
   "metadata": {},
   "outputs": [],
   "source": [
    "controls = np.array([0,0,0,0]) # here"
   ]
  },
  {
   "cell_type": "markdown",
   "metadata": {},
   "source": [
    "### Simulation"
   ]
  },
  {
   "cell_type": "code",
   "execution_count": null,
   "metadata": {},
   "outputs": [],
   "source": [
    "# This will add an extra couple of seconds to the simulation after the input controls with no control\n",
    "# the effect of this is just to show how the system will continue after the controller \"stops controlling\"\n",
    "controls = np.append(controls,[0, 0])\n",
    "\n",
    "# number of steps in the simulation\n",
    "nr_steps = controls.shape[0]\n",
    "\n",
    "# We now compute finer dynamics and control vectors for smoother visualization\n",
    "Afine = sp.linalg.fractional_matrix_power(A,(1/fps))\n",
    "Asum = np.eye(nr_states)\n",
    "for i in range(1, fps):\n",
    "    Asum = Asum + np.linalg.matrix_power(Afine,i)\n",
    "    \n",
    "bfine = np.linalg.inv(Asum).dot(b)\n",
    "\n",
    "# We also expand the controls in the \"intermediate steps\" (only for visualization)\n",
    "controls_final = np.outer(controls, np.ones(fps)).flatten()\n",
    "controls_final = np.append(controls_final, [0])\n",
    "\n",
    "# We compute all the states starting from x0 and using the controls\n",
    "states = np.empty([fps*(nr_steps)+1, nr_states])\n",
    "states[0,:] = state0;\n",
    "for stepId in range(1,fps*(nr_steps)+1):\n",
    "    states[stepId, :] = np.dot(Afine,states[stepId-1, :]) + controls_final[stepId-1] * bfine\n",
    "    \n",
    "# Now create the time vector for simulation\n",
    "t = np.linspace(1/fps,nr_steps,fps*(nr_steps),endpoint=True)\n",
    "t = np.append([0], t)"
   ]
  },
  {
   "cell_type": "markdown",
   "metadata": {},
   "source": [
    "### Visualization"
   ]
  },
  {
   "cell_type": "code",
   "execution_count": null,
   "metadata": {},
   "outputs": [],
   "source": [
    "%matplotlib nbagg\n",
    "# %matplotlib qt\n",
    "anim = animate_segway(t, states, controls_final, stick_length)\n",
    "anim"
   ]
  },
  {
   "cell_type": "code",
   "execution_count": null,
   "metadata": {},
   "outputs": [],
   "source": []
  }
 ],
 "metadata": {
  "anaconda-cloud": {},
  "kernelspec": {
   "display_name": "Python 3",
   "language": "python",
   "name": "python3"
  },
  "language_info": {
   "codemirror_mode": {
    "name": "ipython",
    "version": 3
   },
   "file_extension": ".py",
   "mimetype": "text/x-python",
   "name": "python",
   "nbconvert_exporter": "python",
   "pygments_lexer": "ipython3",
   "version": "3.7.1"
  },
  "name": "graphs_for_SOE.ipynb"
 },
 "nbformat": 4,
 "nbformat_minor": 1
}
