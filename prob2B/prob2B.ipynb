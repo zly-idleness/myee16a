{
 "cells": [
  {
   "cell_type": "markdown",
   "metadata": {},
   "source": [
    "## Notebook component to Homework 2B\n",
    "### Summer 2020"
   ]
  },
  {
   "cell_type": "markdown",
   "metadata": {},
   "source": [
    "**This homework is due Sunday, July 12, 2020 at 23:59 PT. Self-grades are due Wednesday, July 15, 2020 at 23:59 PT**"
   ]
  },
  {
   "cell_type": "markdown",
   "metadata": {},
   "source": [
    "#### Question 2: Noisy Images"
   ]
  },
  {
   "cell_type": "code",
   "execution_count": 1,
   "metadata": {},
   "outputs": [],
   "source": [
    "import numpy as np\n",
    "import matplotlib.pyplot as plt\n",
    "%matplotlib inline"
   ]
  },
  {
   "cell_type": "code",
   "execution_count": null,
   "metadata": {},
   "outputs": [],
   "source": [
    "# Let's load some data to start off with.\n",
    "H3 = np.loadtxt(\"cond_10e6.txt\", delimiter=',').reshape(100,100)\n",
    "H2 = np.loadtxt(\"cond_1e3.txt\", delimiter=',').reshape(100,100)\n",
    "H1 = np.eye(100)\n",
    "img = np.loadtxt(\"image.txt\", delimiter=',').reshape(10,10)\n",
    "\n",
    "# The code below displays the image and the set of masks.\n",
    "fig, ax = plt.subplots(1, 4, figsize=(15, 5))\n",
    "ax[0].imshow(img,cmap='gray')\n",
    "ax[0].set_title('img', fontsize=18)\n",
    "ax[0].axis('off')\n",
    "ax[1].imshow(H1,cmap='gray')\n",
    "ax[1].set_title('H1', fontsize=18)\n",
    "ax[1].axis('off')\n",
    "ax[2].imshow(H2,cmap='gray')\n",
    "ax[2].set_title('H2', fontsize=18)\n",
    "ax[2].axis('off')\n",
    "ax[3].imshow(H3,cmap='gray')\n",
    "ax[3].set_title('H3', fontsize=18)\n",
    "ax[3].axis('off')"
   ]
  },
  {
   "cell_type": "markdown",
   "metadata": {},
   "source": [
    "#### We want to take a measurement $\\vec{s} = \\mathbf{H} \\, \\vec{i} + \\vec{w}$, and then be able to recover $\\vec{i}$ from this measurement. Recovering $\\vec{i}$ from $\\vec{s}$ will require *inverting* the matrix $\\mathbf{H}$. We'll look at the effect of this inversion for each of the three matrices $\\mathbf{H}_1$,  $\\mathbf{H}_2$,  and $\\mathbf{H}_3$."
   ]
  },
  {
   "cell_type": "code",
   "execution_count": 3,
   "metadata": {},
   "outputs": [],
   "source": [
    "# We'll use numpy.random to make some noise.\n",
    "noise = np.random.normal(loc=0.5, scale=0.1)   \n",
    "# gaussian noise with mean 0.5 and standard deviation 0.1\n",
    "# ^https://numpy.org/doc/stable/reference/random/generated/numpy.random.normal.html"
   ]
  },
  {
   "cell_type": "markdown",
   "metadata": {},
   "source": [
    "**Let's call $\\vec{x}$ the estimate of $\\vec{i}$ recovered from the measurement $\\vec{s}$. We're hoping that $\\vec{x} \\approx \\vec{i}$**"
   ]
  },
  {
   "cell_type": "code",
   "execution_count": null,
   "metadata": {
    "scrolled": false
   },
   "outputs": [],
   "source": [
    "s = H1.dot(img.reshape(100)) + noise  # making the measurement (with additive noise)\n",
    "\n",
    "x = np.linalg.inv(H1).dot(s)\n",
    "eigenvalues = np.linalg.eig(H1)[0]  \n",
    "# ^https://numpy.org/doc/stable/reference/generated/numpy.linalg.eig.html\n",
    "\n",
    "print(\"The matrix is invertible:\", abs(np.linalg.det(H1)) > 1e-5)  \n",
    "# ^If the determinant is exactly zero, we know it's not invertible. \n",
    "#  If the determinant is too close to zero we may have numerical issues. This is just a rough check on invertibility\n",
    "\n",
    "print(\"The smallest eigenvalue is:\", min(np.absolute(eigenvalues)))\n",
    "print(\"Number of eigenvectors:\", len(eigenvalues))\n",
    "\n",
    "plt.imshow(x.reshape(10,10), cmap='gray')"
   ]
  },
  {
   "cell_type": "markdown",
   "metadata": {},
   "source": [
    "### Now repeat the above code block, but using H2 instead of H1"
   ]
  },
  {
   "cell_type": "code",
   "execution_count": null,
   "metadata": {},
   "outputs": [],
   "source": []
  },
  {
   "cell_type": "markdown",
   "metadata": {},
   "source": [
    "### Do the same for H3"
   ]
  },
  {
   "cell_type": "code",
   "execution_count": null,
   "metadata": {},
   "outputs": [],
   "source": []
  }
 ],
 "metadata": {
  "kernelspec": {
   "display_name": "Python 3",
   "language": "python",
   "name": "python3"
  },
  "language_info": {
   "codemirror_mode": {
    "name": "ipython",
    "version": 3
   },
   "file_extension": ".py",
   "mimetype": "text/x-python",
   "name": "python",
   "nbconvert_exporter": "python",
   "pygments_lexer": "ipython3",
   "version": "3.7.7"
  }
 },
 "nbformat": 4,
 "nbformat_minor": 4
}
